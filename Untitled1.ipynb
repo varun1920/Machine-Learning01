{
  "nbformat": 4,
  "nbformat_minor": 0,
  "metadata": {
    "colab": {
      "name": "Untitled1.ipynb",
      "version": "0.3.2",
      "provenance": [],
      "collapsed_sections": [],
      "include_colab_link": true
    },
    "kernelspec": {
      "name": "python3",
      "display_name": "Python 3"
    }
  },
  "cells": [
    {
      "cell_type": "markdown",
      "metadata": {
        "id": "view-in-github",
        "colab_type": "text"
      },
      "source": [
        "<a href=\"https://colab.research.google.com/github/varun1920/Machine-Learning01/blob/master/Untitled1.ipynb\" target=\"_parent\"><img src=\"https://colab.research.google.com/assets/colab-badge.svg\" alt=\"Open In Colab\"/></a>"
      ]
    },
    {
      "cell_type": "code",
      "metadata": {
        "id": "KoJ_vMWobBQD",
        "colab_type": "code",
        "outputId": "0ebeed2b-8fe5-44ff-f4f0-f1eacb8d3b36",
        "colab": {
          "base_uri": "https://localhost:8080/",
          "height": 51
        }
      },
      "source": [
        "pip install pyspark\n"
      ],
      "execution_count": 0,
      "outputs": [
        {
          "output_type": "stream",
          "text": [
            "Requirement already satisfied: pyspark in /usr/local/lib/python3.6/dist-packages (2.4.3)\n",
            "Requirement already satisfied: py4j==0.10.7 in /usr/local/lib/python3.6/dist-packages (from pyspark) (0.10.7)\n"
          ],
          "name": "stdout"
        }
      ]
    },
    {
      "cell_type": "code",
      "metadata": {
        "id": "oclhm6nzbanl",
        "colab_type": "code",
        "outputId": "d88c8b72-98cd-4ecb-c064-bf4155008477",
        "colab": {
          "base_uri": "https://localhost:8080/",
          "height": 530
        }
      },
      "source": [
        "pip install yolo\n"
      ],
      "execution_count": 0,
      "outputs": [
        {
          "output_type": "stream",
          "text": [
            "Requirement already satisfied: yolo in /usr/local/lib/python3.6/dist-packages (0.3.2)\n",
            "Requirement already satisfied: boto3 in /usr/local/lib/python3.6/dist-packages (from yolo) (1.9.167)\n",
            "Requirement already satisfied: docker==3.4.0 in /usr/local/lib/python3.6/dist-packages (from yolo) (3.4.0)\n",
            "Requirement already satisfied: keyring==8.7.0 in /usr/local/lib/python3.6/dist-packages (from yolo) (8.7)\n",
            "Requirement already satisfied: jinja2 in /usr/local/lib/python3.6/dist-packages (from yolo) (2.10.1)\n",
            "Requirement already satisfied: botocore>=1.7.18 in /usr/local/lib/python3.6/dist-packages (from yolo) (1.12.167)\n",
            "Requirement already satisfied: keyrings.alt in /usr/local/lib/python3.6/dist-packages (from yolo) (3.1.1)\n",
            "Requirement already satisfied: ruamel.yaml in /usr/local/lib/python3.6/dist-packages (from yolo) (0.15.97)\n",
            "Requirement already satisfied: tabulate in /usr/local/lib/python3.6/dist-packages (from yolo) (0.8.3)\n",
            "Requirement already satisfied: awscli in /usr/local/lib/python3.6/dist-packages (from yolo) (1.16.185)\n",
            "Requirement already satisfied: voluptuous in /usr/local/lib/python3.6/dist-packages (from yolo) (0.11.5)\n",
            "Requirement already satisfied: requests in /usr/local/lib/python3.6/dist-packages (from yolo) (2.21.0)\n",
            "Requirement already satisfied: click in /usr/local/lib/python3.6/dist-packages (from yolo) (7.0)\n",
            "Requirement already satisfied: jmespath<1.0.0,>=0.7.1 in /usr/local/lib/python3.6/dist-packages (from boto3->yolo) (0.9.4)\n",
            "Requirement already satisfied: s3transfer<0.3.0,>=0.2.0 in /usr/local/lib/python3.6/dist-packages (from boto3->yolo) (0.2.1)\n",
            "Requirement already satisfied: websocket-client>=0.32.0 in /usr/local/lib/python3.6/dist-packages (from docker==3.4.0->yolo) (0.56.0)\n",
            "Requirement already satisfied: docker-pycreds>=0.3.0 in /usr/local/lib/python3.6/dist-packages (from docker==3.4.0->yolo) (0.4.0)\n",
            "Requirement already satisfied: six>=1.4.0 in /usr/local/lib/python3.6/dist-packages (from docker==3.4.0->yolo) (1.12.0)\n",
            "Requirement already satisfied: MarkupSafe>=0.23 in /usr/local/lib/python3.6/dist-packages (from jinja2->yolo) (1.1.1)\n",
            "Requirement already satisfied: python-dateutil<3.0.0,>=2.1; python_version >= \"2.7\" in /usr/local/lib/python3.6/dist-packages (from botocore>=1.7.18->yolo) (2.5.3)\n",
            "Requirement already satisfied: docutils>=0.10 in /usr/local/lib/python3.6/dist-packages (from botocore>=1.7.18->yolo) (0.14)\n",
            "Requirement already satisfied: urllib3<1.26,>=1.20; python_version >= \"3.4\" in /usr/local/lib/python3.6/dist-packages (from botocore>=1.7.18->yolo) (1.24.3)\n",
            "Requirement already satisfied: colorama<=0.3.9,>=0.2.5 in /usr/local/lib/python3.6/dist-packages (from awscli->yolo) (0.3.9)\n",
            "Requirement already satisfied: PyYAML<=5.1,>=3.10; python_version != \"2.6\" in /usr/local/lib/python3.6/dist-packages (from awscli->yolo) (3.13)\n",
            "Requirement already satisfied: rsa<=3.5.0,>=3.1.2 in /usr/local/lib/python3.6/dist-packages (from awscli->yolo) (3.4.2)\n",
            "Requirement already satisfied: certifi>=2017.4.17 in /usr/local/lib/python3.6/dist-packages (from requests->yolo) (2019.3.9)\n",
            "Requirement already satisfied: chardet<3.1.0,>=3.0.2 in /usr/local/lib/python3.6/dist-packages (from requests->yolo) (3.0.4)\n",
            "Requirement already satisfied: idna<2.9,>=2.5 in /usr/local/lib/python3.6/dist-packages (from requests->yolo) (2.8)\n",
            "Requirement already satisfied: pyasn1>=0.1.3 in /usr/local/lib/python3.6/dist-packages (from rsa<=3.5.0,>=3.1.2->awscli->yolo) (0.4.5)\n"
          ],
          "name": "stdout"
        }
      ]
    },
    {
      "cell_type": "code",
      "metadata": {
        "id": "O2EpPxJ1btmf",
        "colab_type": "code",
        "colab": {
          "base_uri": "https://localhost:8080/",
          "height": 34
        },
        "outputId": "60f70123-d401-4d51-d477-722cae33fa12"
      },
      "source": [
        "import tensorflow as tf\n",
        "# Initialize two constants\n",
        "x1 =tf.constant([1,2,3,4])\n",
        "x2 =tf.constant([5,6,7,8])\n",
        "# multiply\n",
        "result =tf.multiply(x1 ,x2)\n",
        "# print thre result\n",
        "print(result)"
      ],
      "execution_count": 2,
      "outputs": [
        {
          "output_type": "stream",
          "text": [
            "Tensor(\"Mul_1:0\", shape=(4,), dtype=int32)\n"
          ],
          "name": "stdout"
        }
      ]
    },
    {
      "cell_type": "code",
      "metadata": {
        "id": "gzaKDYmHNZgj",
        "colab_type": "code",
        "colab": {
          "base_uri": "https://localhost:8080/",
          "height": 34
        },
        "outputId": "af07598b-48c0-4c1a-f810-eeb25a4a6547"
      },
      "source": [
        "# import tensorflow\n",
        "import tensorflow as tf\n",
        "x1 =tf.constant([1,2,3,4])\n",
        "x2 =tf.constant([5,6,7,8])\n",
        "result =tf.multiply(x1 ,x2)\n",
        "sess =tf.Session()\n",
        "print(sess.run(result))\n",
        "sess.close()"
      ],
      "execution_count": 3,
      "outputs": [
        {
          "output_type": "stream",
          "text": [
            "[ 5 12 21 32]\n"
          ],
          "name": "stdout"
        }
      ]
    },
    {
      "cell_type": "code",
      "metadata": {
        "id": "wD7pWzYRNtWV",
        "colab_type": "code",
        "colab": {
          "base_uri": "https://localhost:8080/",
          "height": 34
        },
        "outputId": "55b70ae6-4ed3-4efc-fe70-88bcf1064d77"
      },
      "source": [
        "tf.add(x1, x2)\n",
        "sess =tf.Session()\n",
        "print(sess.run(result))\n",
        "sess.close()\n",
        "# tf.sub()"
      ],
      "execution_count": 6,
      "outputs": [
        {
          "output_type": "stream",
          "text": [
            "[ 5 12 21 32]\n"
          ],
          "name": "stdout"
        }
      ]
    },
    {
      "cell_type": "code",
      "metadata": {
        "id": "kRR4c5L1RlNO",
        "colab_type": "code",
        "colab": {
          "base_uri": "https://localhost:8080/",
          "height": 136
        },
        "outputId": "a355c0a8-bf88-4585-a05b-80d2f4d91b04"
      },
      "source": [
        "import tensorflow as tf\n",
        "x=tf.Variable(0)\n",
        "# i =tf.Variable(0)\n",
        "model =tf.global_variables_initializer()\n",
        "with tf.Session() as session:\n",
        "#   ii=tf.Variable(0)->#cant define local variable in session \n",
        "#   model1 =tf.global_variables_initializer() # but can define global variable\n",
        "  print(session.run(model))\n",
        "  for i in range(5):\n",
        "    x=x+i\n",
        "    print(session.run(x))\n",
        "#     print(i)\n",
        "#     print(session.run(ii))->#give error\n",
        "  print(session.run(model1))"
      ],
      "execution_count": 17,
      "outputs": [
        {
          "output_type": "stream",
          "text": [
            "None\n",
            "0\n",
            "1\n",
            "3\n",
            "6\n",
            "10\n",
            "None\n"
          ],
          "name": "stdout"
        }
      ]
    },
    {
      "cell_type": "code",
      "metadata": {
        "id": "FCx7Ov1noC2W",
        "colab_type": "code",
        "colab": {}
      },
      "source": [
        ""
      ],
      "execution_count": 0,
      "outputs": []
    },
    {
      "cell_type": "code",
      "metadata": {
        "id": "dXni7gEvVdbc",
        "colab_type": "code",
        "colab": {}
      },
      "source": [
        ""
      ],
      "execution_count": 0,
      "outputs": []
    }
  ]
}